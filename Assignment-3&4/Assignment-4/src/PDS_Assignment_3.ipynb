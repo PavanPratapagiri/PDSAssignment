{
  "cells": [
    {
      "cell_type": "markdown",
      "metadata": {
        "id": "view-in-github",
        "colab_type": "text"
      },
      "source": [
        "<a href=\"https://colab.research.google.com/github/PavanPratapagiri/PDSAssignment/blob/main/Assignment-3%264/Assignment-4/src/PDS_Assignment_3.ipynb\" target=\"_parent\"><img src=\"https://colab.research.google.com/assets/colab-badge.svg\" alt=\"Open In Colab\"/></a>"
      ]
    },
    {
      "cell_type": "code",
      "execution_count": 31,
      "metadata": {
        "colab": {
          "base_uri": "https://localhost:8080/"
        },
        "id": "YJoWQf2473Q_",
        "outputId": "ff59f7a9-2b4d-49d2-9a8f-02fcba3fdbaa"
      },
      "outputs": [
        {
          "output_type": "stream",
          "name": "stdout",
          "text": [
            "Requirement already satisfied: jupyter-dash in /usr/local/lib/python3.10/dist-packages (0.4.2)\n",
            "Requirement already satisfied: dash in /usr/local/lib/python3.10/dist-packages (from jupyter-dash) (2.16.1)\n",
            "Requirement already satisfied: requests in /usr/local/lib/python3.10/dist-packages (from jupyter-dash) (2.31.0)\n",
            "Requirement already satisfied: flask in /usr/local/lib/python3.10/dist-packages (from jupyter-dash) (2.2.5)\n",
            "Requirement already satisfied: retrying in /usr/local/lib/python3.10/dist-packages (from jupyter-dash) (1.3.4)\n",
            "Requirement already satisfied: ipython in /usr/local/lib/python3.10/dist-packages (from jupyter-dash) (7.34.0)\n",
            "Requirement already satisfied: ipykernel in /usr/local/lib/python3.10/dist-packages (from jupyter-dash) (5.5.6)\n",
            "Requirement already satisfied: ansi2html in /usr/local/lib/python3.10/dist-packages (from jupyter-dash) (1.9.1)\n",
            "Requirement already satisfied: nest-asyncio in /usr/local/lib/python3.10/dist-packages (from jupyter-dash) (1.6.0)\n",
            "Requirement already satisfied: Werkzeug<3.1 in /usr/local/lib/python3.10/dist-packages (from dash->jupyter-dash) (3.0.2)\n",
            "Requirement already satisfied: plotly>=5.0.0 in /usr/local/lib/python3.10/dist-packages (from dash->jupyter-dash) (5.15.0)\n",
            "Requirement already satisfied: dash-html-components==2.0.0 in /usr/local/lib/python3.10/dist-packages (from dash->jupyter-dash) (2.0.0)\n",
            "Requirement already satisfied: dash-core-components==2.0.0 in /usr/local/lib/python3.10/dist-packages (from dash->jupyter-dash) (2.0.0)\n",
            "Requirement already satisfied: dash-table==5.0.0 in /usr/local/lib/python3.10/dist-packages (from dash->jupyter-dash) (5.0.0)\n",
            "Requirement already satisfied: importlib-metadata in /usr/local/lib/python3.10/dist-packages (from dash->jupyter-dash) (7.1.0)\n",
            "Requirement already satisfied: typing-extensions>=4.1.1 in /usr/local/lib/python3.10/dist-packages (from dash->jupyter-dash) (4.11.0)\n",
            "Requirement already satisfied: setuptools in /usr/local/lib/python3.10/dist-packages (from dash->jupyter-dash) (67.7.2)\n",
            "Requirement already satisfied: Jinja2>=3.0 in /usr/local/lib/python3.10/dist-packages (from flask->jupyter-dash) (3.1.3)\n",
            "Requirement already satisfied: itsdangerous>=2.0 in /usr/local/lib/python3.10/dist-packages (from flask->jupyter-dash) (2.1.2)\n",
            "Requirement already satisfied: click>=8.0 in /usr/local/lib/python3.10/dist-packages (from flask->jupyter-dash) (8.1.7)\n",
            "Requirement already satisfied: ipython-genutils in /usr/local/lib/python3.10/dist-packages (from ipykernel->jupyter-dash) (0.2.0)\n",
            "Requirement already satisfied: traitlets>=4.1.0 in /usr/local/lib/python3.10/dist-packages (from ipykernel->jupyter-dash) (5.7.1)\n",
            "Requirement already satisfied: jupyter-client in /usr/local/lib/python3.10/dist-packages (from ipykernel->jupyter-dash) (6.1.12)\n",
            "Requirement already satisfied: tornado>=4.2 in /usr/local/lib/python3.10/dist-packages (from ipykernel->jupyter-dash) (6.3.3)\n",
            "Requirement already satisfied: jedi>=0.16 in /usr/local/lib/python3.10/dist-packages (from ipython->jupyter-dash) (0.19.1)\n",
            "Requirement already satisfied: decorator in /usr/local/lib/python3.10/dist-packages (from ipython->jupyter-dash) (4.4.2)\n",
            "Requirement already satisfied: pickleshare in /usr/local/lib/python3.10/dist-packages (from ipython->jupyter-dash) (0.7.5)\n",
            "Requirement already satisfied: prompt-toolkit!=3.0.0,!=3.0.1,<3.1.0,>=2.0.0 in /usr/local/lib/python3.10/dist-packages (from ipython->jupyter-dash) (3.0.43)\n",
            "Requirement already satisfied: pygments in /usr/local/lib/python3.10/dist-packages (from ipython->jupyter-dash) (2.16.1)\n",
            "Requirement already satisfied: backcall in /usr/local/lib/python3.10/dist-packages (from ipython->jupyter-dash) (0.2.0)\n",
            "Requirement already satisfied: matplotlib-inline in /usr/local/lib/python3.10/dist-packages (from ipython->jupyter-dash) (0.1.6)\n",
            "Requirement already satisfied: pexpect>4.3 in /usr/local/lib/python3.10/dist-packages (from ipython->jupyter-dash) (4.9.0)\n",
            "Requirement already satisfied: charset-normalizer<4,>=2 in /usr/local/lib/python3.10/dist-packages (from requests->jupyter-dash) (3.3.2)\n",
            "Requirement already satisfied: idna<4,>=2.5 in /usr/local/lib/python3.10/dist-packages (from requests->jupyter-dash) (3.6)\n",
            "Requirement already satisfied: urllib3<3,>=1.21.1 in /usr/local/lib/python3.10/dist-packages (from requests->jupyter-dash) (2.0.7)\n",
            "Requirement already satisfied: certifi>=2017.4.17 in /usr/local/lib/python3.10/dist-packages (from requests->jupyter-dash) (2024.2.2)\n",
            "Requirement already satisfied: six>=1.7.0 in /usr/local/lib/python3.10/dist-packages (from retrying->jupyter-dash) (1.16.0)\n",
            "Requirement already satisfied: parso<0.9.0,>=0.8.3 in /usr/local/lib/python3.10/dist-packages (from jedi>=0.16->ipython->jupyter-dash) (0.8.4)\n",
            "Requirement already satisfied: MarkupSafe>=2.0 in /usr/local/lib/python3.10/dist-packages (from Jinja2>=3.0->flask->jupyter-dash) (2.1.5)\n",
            "Requirement already satisfied: ptyprocess>=0.5 in /usr/local/lib/python3.10/dist-packages (from pexpect>4.3->ipython->jupyter-dash) (0.7.0)\n",
            "Requirement already satisfied: tenacity>=6.2.0 in /usr/local/lib/python3.10/dist-packages (from plotly>=5.0.0->dash->jupyter-dash) (8.2.3)\n",
            "Requirement already satisfied: packaging in /usr/local/lib/python3.10/dist-packages (from plotly>=5.0.0->dash->jupyter-dash) (24.0)\n",
            "Requirement already satisfied: wcwidth in /usr/local/lib/python3.10/dist-packages (from prompt-toolkit!=3.0.0,!=3.0.1,<3.1.0,>=2.0.0->ipython->jupyter-dash) (0.2.13)\n",
            "Requirement already satisfied: zipp>=0.5 in /usr/local/lib/python3.10/dist-packages (from importlib-metadata->dash->jupyter-dash) (3.18.1)\n",
            "Requirement already satisfied: jupyter-core>=4.6.0 in /usr/local/lib/python3.10/dist-packages (from jupyter-client->ipykernel->jupyter-dash) (5.7.2)\n",
            "Requirement already satisfied: pyzmq>=13 in /usr/local/lib/python3.10/dist-packages (from jupyter-client->ipykernel->jupyter-dash) (23.2.1)\n",
            "Requirement already satisfied: python-dateutil>=2.1 in /usr/local/lib/python3.10/dist-packages (from jupyter-client->ipykernel->jupyter-dash) (2.8.2)\n",
            "Requirement already satisfied: platformdirs>=2.5 in /usr/local/lib/python3.10/dist-packages (from jupyter-core>=4.6.0->jupyter-client->ipykernel->jupyter-dash) (4.2.0)\n"
          ]
        }
      ],
      "source": [
        "!pip install jupyter-dash"
      ]
    },
    {
      "cell_type": "code",
      "execution_count": 32,
      "metadata": {
        "colab": {
          "base_uri": "https://localhost:8080/"
        },
        "id": "71o8sIko9gg_",
        "outputId": "ccee926c-37ab-46ce-ea75-5c7751645446"
      },
      "outputs": [
        {
          "output_type": "stream",
          "name": "stdout",
          "text": [
            "{'status': 200, 'time': '2024-04-17T03:43:24.981Z', 'results': [{'name': 'AP Poll', 'rankings': [{'rank': 1, 'team': 'Michigan', 'teamId': 1056}, {'rank': 2, 'team': 'Washington', 'teamId': 1320}, {'rank': 3, 'team': 'Texas', 'teamId': 1398}, {'rank': 4, 'team': 'Georgia', 'teamId': 1365}, {'rank': 5, 'team': 'Alabama', 'teamId': 1265}, {'rank': 6, 'team': 'Florida State', 'teamId': 1048}, {'rank': 6, 'team': 'Oregon', 'teamId': 1388}, {'rank': 8, 'team': 'Missouri', 'teamId': 1293}, {'rank': 9, 'team': 'Mississippi', 'teamId': 1138}, {'rank': 10, 'team': 'Ohio State', 'teamId': 1387}, {'rank': 11, 'team': 'Arizona', 'teamId': 1113}, {'rank': 12, 'team': 'LSU', 'teamId': 1375}, {'rank': 13, 'team': 'Penn State', 'teamId': 1302}, {'rank': 14, 'team': 'Notre Dame', 'teamId': 1064}, {'rank': 15, 'team': 'Oklahoma', 'teamId': 1065}, {'rank': 16, 'team': 'Oklahoma State', 'teamId': 1145}, {'rank': 17, 'team': 'Tennessee', 'teamId': 1397}, {'rank': 18, 'team': 'Kansas State', 'teamId': 1132}, {'rank': 19, 'team': 'Louisville', 'teamId': 1054}, {'rank': 20, 'team': 'Clemson', 'teamId': 1272}, {'rank': 21, 'team': 'NC State', 'teamId': 1141}, {'rank': 22, 'team': 'SMU', 'teamId': 1307}, {'rank': 23, 'team': 'Kansas', 'teamId': 1053}, {'rank': 24, 'team': 'Iowa', 'teamId': 1209}, {'rank': 25, 'team': 'Liberty', 'teamId': 1373}]}, {'name': 'Coaches Poll', 'rankings': [{'rank': 1, 'team': 'Michigan', 'teamId': 1056}, {'rank': 2, 'team': 'Washington', 'teamId': 1320}, {'rank': 3, 'team': 'Georgia', 'teamId': 1365}, {'rank': 4, 'team': 'Texas', 'teamId': 1398}, {'rank': 5, 'team': 'Alabama', 'teamId': 1265}, {'rank': 6, 'team': 'Florida State', 'teamId': 1048}, {'rank': 7, 'team': 'Oregon', 'teamId': 1388}, {'rank': 8, 'team': 'Missouri', 'teamId': 1293}, {'rank': 9, 'team': 'Mississippi', 'teamId': 1138}, {'rank': 10, 'team': 'Ohio State', 'teamId': 1387}, {'rank': 11, 'team': 'Arizona', 'teamId': 1113}, {'rank': 12, 'team': 'LSU', 'teamId': 1375}, {'rank': 13, 'team': 'Penn State', 'teamId': 1302}, {'rank': 14, 'team': 'Notre Dame', 'teamId': 1064}, {'rank': 15, 'team': 'Oklahoma', 'teamId': 1065}, {'rank': 16, 'team': 'Oklahoma State', 'teamId': 1145}, {'rank': 17, 'team': 'Tennessee', 'teamId': 1397}, {'rank': 18, 'team': 'Louisville', 'teamId': 1054}, {'rank': 19, 'team': 'Kansas State', 'teamId': 1132}, {'rank': 20, 'team': 'Clemson', 'teamId': 1272}, {'rank': 21, 'team': 'NC State', 'teamId': 1141}, {'rank': 22, 'team': 'Iowa', 'teamId': 1209}, {'rank': 23, 'team': 'Kansas', 'teamId': 1053}, {'rank': 24, 'team': 'SMU', 'teamId': 1307}, {'rank': 25, 'team': 'West Virginia', 'teamId': 1238}]}]}\n"
          ]
        }
      ],
      "source": [
        "import requests\n",
        "\n",
        "url = \"https://sportspage-feeds.p.rapidapi.com/rankings\"\n",
        "\n",
        "querystring = {\"league\":\"NCAAF\"}\n",
        "\n",
        "headers = {\n",
        "\t\"X-RapidAPI-Key\": \"2233528b1dmsh8d748e99b519012p1c55d6jsncb48593d3f18\",\n",
        "\t\"X-RapidAPI-Host\": \"sportspage-feeds.p.rapidapi.com\"\n",
        "}\n",
        "\n",
        "response = requests.get(url, headers=headers, params=querystring)\n",
        "\n",
        "print(response.json())"
      ]
    },
    {
      "cell_type": "code",
      "source": [
        "#downloading the response.json\n",
        "import json\n",
        "\n",
        "url = \"https://sportspage-feeds.p.rapidapi.com/rankings\"\n",
        "\n",
        "querystring = {\"league\":\"NCAAF\"}\n",
        "\n",
        "headers = {\n",
        "\t\"X-RapidAPI-Key\": \"2233528b1dmsh8d748e99b519012p1c55d6jsncb48593d3f18\",\n",
        "\t\"X-RapidAPI-Host\": \"sportspage-feeds.p.rapidapi.com\"\n",
        "}\n",
        "\n",
        "response = requests.get(url, headers=headers, params=querystring)\n",
        "\n",
        "with open('response.json', 'w') as f:\n",
        "    json.dump(response.json(), f)\n"
      ],
      "metadata": {
        "id": "PSDPc1GLOhCo"
      },
      "execution_count": 33,
      "outputs": []
    },
    {
      "cell_type": "code",
      "execution_count": 30,
      "metadata": {
        "colab": {
          "base_uri": "https://localhost:8080/",
          "height": 672
        },
        "id": "gCb2c-11jf5C",
        "outputId": "d3f7b319-2955-4289-82fe-fa7b60783f72"
      },
      "outputs": [
        {
          "output_type": "display_data",
          "data": {
            "text/plain": [
              "<IPython.core.display.Javascript object>"
            ],
            "application/javascript": [
              "(async (port, path, width, height, cache, element) => {\n",
              "    if (!google.colab.kernel.accessAllowed && !cache) {\n",
              "      return;\n",
              "    }\n",
              "    element.appendChild(document.createTextNode(''));\n",
              "    const url = await google.colab.kernel.proxyPort(port, {cache});\n",
              "    const iframe = document.createElement('iframe');\n",
              "    iframe.src = new URL(path, url).toString();\n",
              "    iframe.height = height;\n",
              "    iframe.width = width;\n",
              "    iframe.style.border = 0;\n",
              "    iframe.allow = [\n",
              "        'accelerometer',\n",
              "        'autoplay',\n",
              "        'camera',\n",
              "        'clipboard-read',\n",
              "        'clipboard-write',\n",
              "        'gyroscope',\n",
              "        'magnetometer',\n",
              "        'microphone',\n",
              "        'serial',\n",
              "        'usb',\n",
              "        'xr-spatial-tracking',\n",
              "    ].join('; ');\n",
              "    element.appendChild(iframe);\n",
              "  })(8050, \"/\", \"100%\", 650, false, window.element)"
            ]
          },
          "metadata": {}
        }
      ],
      "source": [
        "import dash\n",
        "from dash import html, dcc, Input, Output\n",
        "import requests\n",
        "\n",
        "# Initialize Dash app\n",
        "app = dash.Dash(__name__)\n",
        "\n",
        "# Set up layout\n",
        "app.layout = html.Div([\n",
        "    html.H1(\"NCAAF Rankings\"),\n",
        "    dcc.Loading(id=\"loading\", children=[html.Div(id=\"output\")])\n",
        "])\n",
        "\n",
        "# Callback to fetch and display data\n",
        "@app.callback(\n",
        "    Output(\"output\", \"children\"),\n",
        "    [Input(\"loading\", \"loading_state\")]\n",
        ")\n",
        "def update_output(loading):\n",
        "    # Fetch data from API\n",
        "    url = \"https://sportspage-feeds.p.rapidapi.com/rankings\"\n",
        "    querystring = {\"league\": \"NCAAF\"}\n",
        "    headers = {\"X-RapidAPI-Key\": \"1342981e3emshc7a5f249e891318p1a214fjsn76e638f920ee\"}\n",
        "    try:\n",
        "        response = requests.get(url, headers=headers, params=querystring)\n",
        "        response.raise_for_status()\n",
        "        data = response.json()\n",
        "        # Process and format the data for display\n",
        "        rankings = [\n",
        "            html.Div([\n",
        "                html.H2(rank['name']),\n",
        "                html.Ul([html.Li(f\"{team['rank']}. {team['team']}\") for team in rank['rankings']])\n",
        "            ])\n",
        "            for rank in data['results']\n",
        "        ]\n",
        "\n",
        "        return rankings\n",
        "\n",
        "    except requests.exceptions.RequestException as e:\n",
        "        return html.Div(f\"Error fetching data: {e}\")\n",
        "\n",
        "# Run the app\n",
        "if __name__ == '__main__':\n",
        "    app.run_server(debug=True)\n"
      ]
    },
    {
      "cell_type": "code",
      "source": [],
      "metadata": {
        "id": "c2bJiYgkInoh"
      },
      "execution_count": null,
      "outputs": []
    }
  ],
  "metadata": {
    "colab": {
      "provenance": [],
      "authorship_tag": "ABX9TyNXgV+b/U+Gg0sxMJqV32ko",
      "include_colab_link": true
    },
    "kernelspec": {
      "display_name": "Python 3",
      "name": "python3"
    },
    "language_info": {
      "name": "python"
    }
  },
  "nbformat": 4,
  "nbformat_minor": 0
}